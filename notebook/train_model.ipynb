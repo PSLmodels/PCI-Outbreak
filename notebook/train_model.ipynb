{
 "cells": [
  {
   "cell_type": "code",
   "execution_count": 1,
   "metadata": {},
   "outputs": [],
   "source": [
    "import os\n",
    "import sys\n",
    "import numpy as np\n",
    "import pickle\n",
    "\n",
    "module_path = os.path.abspath(os.path.join('..'))\n",
    "if module_path not in sys.path:\n",
    "    sys.path.append(module_path)\n",
    "\n",
    "from src.sentence_based_bert import *\n",
    "from src.model_settings import *\n",
    "from src.data import *"
   ]
  },
  {
   "cell_type": "markdown",
   "metadata": {},
   "source": [
    "# Data processing"
   ]
  },
  {
   "cell_type": "code",
   "execution_count": 2,
   "metadata": {},
   "outputs": [
    {
     "name": "stdout",
     "output_type": "stream",
     "text": [
      "Raw data already present locally.\n",
      "Finished processing data.\n",
      "Uploaded processed data to s3.\n"
     ]
    }
   ],
   "source": [
    "model_settings = initialize_model_settings()\n",
    "\n",
    "\n",
    "# get_raw_data(model_settings, \"s3\")\n",
    "get_raw_data(model_settings, \"local\") ## If raw data already present locally\n",
    "\n",
    "process_data(model_settings)\n",
    "\n",
    "upload_processed_data_s3(model_settings)\n",
    "\n",
    "## To skip previous steps and just download processed data:\n",
    "# download_processed_data_s3(model_settings)\n"
   ]
  },
  {
   "cell_type": "markdown",
   "metadata": {},
   "source": [
    "# Train model"
   ]
  },
  {
   "cell_type": "code",
   "execution_count": null,
   "metadata": {},
   "outputs": [],
   "source": [
    "for stage in [1, 2]:\n",
    "\n",
    "    df_train, df_test, _ = gen_train_test_data(model_settings, stage)\n",
    "\n",
    "    train_bert(model_settings, df_train, stage, prev_epoch=None, from_s3=False)\n",
    "\n",
    "    ## To see the performance in training and testing has stablized in the final epochs:\n",
    "    assess_training(model_settings, stage, df_train=df_train, df_test=df_test)\n"
   ]
  },
  {
   "cell_type": "markdown",
   "metadata": {},
   "source": [
    "# Evaulate model"
   ]
  },
  {
   "cell_type": "code",
   "execution_count": 3,
   "metadata": {},
   "outputs": [
    {
     "name": "stdout",
     "output_type": "stream",
     "text": [
      "Generated train and test data.\n"
     ]
    },
    {
     "name": "stderr",
     "output_type": "stream",
     "text": [
      "C:\\Users\\weifeng\\Anaconda3\\envs\\pci_pt\\lib\\site-packages\\torch\\nn\\parallel\\data_parallel.py:26: UserWarning: \n",
      "    There is an imbalance between your GPUs. You may want to exclude GPU 1 which\n",
      "    has less than 75% of the memory or cores of GPU 0. You can do so by setting\n",
      "    the device_ids argument to DataParallel, or by setting the CUDA_VISIBLE_DEVICES\n",
      "    environment variable.\n",
      "  warnings.warn(imbalance_warn.format(device_ids[min_pos], device_ids[max_pos]))\n",
      "  0%|                                                                                          | 0/160 [00:00<?, ?it/s]"
     ]
    },
    {
     "name": "stdout",
     "output_type": "stream",
     "text": [
      "Loaded the requested model\n",
      "Forecast: \n",
      "- # of obs: 154194\n",
      "160 batches\n"
     ]
    },
    {
     "name": "stderr",
     "output_type": "stream",
     "text": [
      "161it [16:00,  5.97s/it]                                                                                               \n"
     ]
    },
    {
     "name": "stdout",
     "output_type": "stream",
     "text": [
      "Generated train and test data.\n"
     ]
    },
    {
     "name": "stderr",
     "output_type": "stream",
     "text": [
      "C:\\Users\\weifeng\\Anaconda3\\envs\\pci_pt\\lib\\site-packages\\torch\\nn\\parallel\\data_parallel.py:26: UserWarning: \n",
      "    There is an imbalance between your GPUs. You may want to exclude GPU 1 which\n",
      "    has less than 75% of the memory or cores of GPU 0. You can do so by setting\n",
      "    the device_ids argument to DataParallel, or by setting the CUDA_VISIBLE_DEVICES\n",
      "    environment variable.\n",
      "  warnings.warn(imbalance_warn.format(device_ids[min_pos], device_ids[max_pos]))\n",
      "  0%|                                                                                          | 0/109 [00:00<?, ?it/s]"
     ]
    },
    {
     "name": "stdout",
     "output_type": "stream",
     "text": [
      "Loaded the requested model\n",
      "Forecast: \n",
      "- # of obs: 105401\n",
      "109 batches\n"
     ]
    },
    {
     "name": "stderr",
     "output_type": "stream",
     "text": [
      "110it [10:58,  5.99s/it]                                                                                               \n"
     ]
    }
   ],
   "source": [
    "for stage in [1, 2]:\n",
    "\n",
    "    _, df_test, df_train_unbal = gen_train_test_data(model_settings, stage) ## Use data before balancing to compile results\n",
    "    df_forecast, _ = gen_forecast_data(model_settings, stage)\n",
    "\n",
    "    model, _, device = create_model(model_settings, stage, prev_epoch=model_settings['epochs'], from_s3=False)\n",
    "    ## from_s3=True if model is not present locally\n",
    "    ## from_s3=False if model is present locally\n",
    "    \n",
    "#     print(\"Training: \")\n",
    "#     calc_results(model_settings, stage, model, device, df_train_unbal, \"train\")\n",
    "    \n",
    "#     print(\"Testing: \")\n",
    "#     calc_results(model_settings, stage, model, device, df_test ,       \"test\")\n",
    "    \n",
    "    print(\"Forecast: \")\n",
    "    calc_results(model_settings, stage, model, device, df_forecast,    \"forecast\")\n"
   ]
  }
 ],
 "metadata": {
  "kernelspec": {
   "display_name": "Python 3",
   "language": "python",
   "name": "python3"
  },
  "language_info": {
   "codemirror_mode": {
    "name": "ipython",
    "version": 3
   },
   "file_extension": ".py",
   "mimetype": "text/x-python",
   "name": "python",
   "nbconvert_exporter": "python",
   "pygments_lexer": "ipython3",
   "version": "3.7.7"
  }
 },
 "nbformat": 4,
 "nbformat_minor": 2
}
