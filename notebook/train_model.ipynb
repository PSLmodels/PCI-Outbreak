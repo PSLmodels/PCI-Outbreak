{
 "cells": [
  {
   "cell_type": "code",
   "execution_count": null,
   "metadata": {},
   "outputs": [],
   "source": [
    "import os\n",
    "import sys\n",
    "import numpy as np\n",
    "import pickle\n",
    "\n",
    "module_path = os.path.abspath(os.path.join('..'))\n",
    "if module_path not in sys.path:\n",
    "    sys.path.append(module_path)\n",
    "\n",
    "from src.sentence_based_bert import *\n",
    "from src.model_settings import *\n",
    "from src.data import *"
   ]
  },
  {
   "cell_type": "code",
   "execution_count": null,
   "metadata": {},
   "outputs": [],
   "source": [
    "model_settings = initialize_model_settings()"
   ]
  },
  {
   "cell_type": "markdown",
   "metadata": {},
   "source": [
    "# Data processing"
   ]
  },
  {
   "cell_type": "code",
   "execution_count": null,
   "metadata": {},
   "outputs": [],
   "source": [
    "get_raw_data(model_settings, \"s3\")\n",
    "# get_raw_data(model_settings, \"local\") ## If raw data already present locally\n",
    "\n",
    "process_data(model_settings)\n",
    "\n",
    "upload_processed_data_s3(model_settings)\n",
    "\n",
    "## To skip previous steps and just download processed data:\n",
    "# download_processed_data_s3(model_settings)\n"
   ]
  },
  {
   "cell_type": "markdown",
   "metadata": {},
   "source": [
    "# Summary statistics"
   ]
  },
  {
   "cell_type": "code",
   "execution_count": null,
   "metadata": {},
   "outputs": [],
   "source": [
    "gen_sum_stats(model_settings)\n"
   ]
  },
  {
   "cell_type": "markdown",
   "metadata": {},
   "source": [
    "# Train model"
   ]
  },
  {
   "cell_type": "code",
   "execution_count": null,
   "metadata": {},
   "outputs": [],
   "source": [
    "for stage in [1, 2]:\n",
    "\n",
    "    df_train, df_test, _ = gen_train_test_data(model_settings, stage)\n",
    "\n",
    "    train_bert(model_settings, df_train, stage, prev_epoch=None, from_s3=False)\n",
    "\n",
    "    ## To see the performance in training and testing has stablized in the final epochs:\n",
    "    assess_training(model_settings, stage, df_train=df_train, df_test=df_test)\n"
   ]
  },
  {
   "cell_type": "markdown",
   "metadata": {},
   "source": [
    "# Evaulate model"
   ]
  },
  {
   "cell_type": "code",
   "execution_count": null,
   "metadata": {},
   "outputs": [],
   "source": [
    "for stage in [1, 2]:\n",
    "\n",
    "    _, df_test, df_train_unbal = gen_train_test_data(model_settings, stage) ## Use data before balancing to compile results\n",
    "    df_forecast, _ = gen_forecast_data(model_settings, stage)\n",
    "\n",
    "    model, _, device = create_model(model_settings, stage, prev_epoch=model_settings['epochs'], from_s3=False)\n",
    "    ## from_s3=True if model is not present locally\n",
    "    ## from_s3=False if model is present locally\n",
    "    \n",
    "    print(\"Training: \")\n",
    "    calc_results(model_settings, stage, model, device, df_train_unbal, \"train\")\n",
    "    \n",
    "    print(\"Testing: \")\n",
    "    calc_results(model_settings, stage, model, device, df_test ,       \"test\")\n",
    "    \n",
    "    print(\"Forecast: \")\n",
    "    calc_results(model_settings, stage, model, device, df_forecast,    \"forecast\")\n"
   ]
  },
  {
   "cell_type": "markdown",
   "metadata": {},
   "source": [
    "# Interpret results"
   ]
  },
  {
   "cell_type": "code",
   "execution_count": null,
   "metadata": {},
   "outputs": [],
   "source": [
    "slct_date = '02-02-2020'\n",
    "extract_articles(model_settings, slct_date)"
   ]
  },
  {
   "cell_type": "code",
   "execution_count": null,
   "metadata": {},
   "outputs": [],
   "source": [
    "kword = '北京'\n",
    "\n",
    "slct_date = '06-30-2020'\n",
    "extract_articles(model_settings, slct_date, kword)"
   ]
  },
  {
   "cell_type": "markdown",
   "metadata": {},
   "source": [
    "# Robustness check"
   ]
  },
  {
   "cell_type": "markdown",
   "metadata": {},
   "source": [
    "### Translating Covid terms to Sars terms"
   ]
  },
  {
   "cell_type": "code",
   "execution_count": null,
   "metadata": {},
   "outputs": [],
   "source": [
    "for stage in [1, 2]:\n",
    "\n",
    "    df_forecast, _ = gen_forecast_data(model_settings, stage, to_translate=True)\n",
    "\n",
    "    model, _, device = create_model(model_settings, stage, prev_epoch=model_settings['epochs'], from_s3=False)\n",
    "    ## from_s3=True if model is not present locally\n",
    "    ## from_s3=False if model is present locally\n",
    "    \n",
    "    print(\"Forecast: \")\n",
    "    calc_results(model_settings, stage, model, device, df_forecast, \"forecast\", to_translate=True)\n"
   ]
  },
  {
   "cell_type": "markdown",
   "metadata": {},
   "source": [
    "### Filtering out foriegn country-related articles"
   ]
  },
  {
   "cell_type": "code",
   "execution_count": null,
   "metadata": {},
   "outputs": [],
   "source": [
    "## Use new model folder name\n",
    "\n",
    "model_settings_domestic_only = model_settings\n",
    "model_settings_domestic_only['model_name'] = \"Sentence_based_domestic_only\"\n"
   ]
  },
  {
   "cell_type": "code",
   "execution_count": null,
   "metadata": {},
   "outputs": [],
   "source": [
    "## Train model\n",
    "\n",
    "for stage in [1, 2]:\n",
    "\n",
    "    df_train, df_test, _ = gen_train_test_data(model_settings_domestic_only, stage, domestic_only=True)\n",
    "\n",
    "    train_bert(model_settings_domestic_only, df_train, stage, prev_epoch=None, from_s3=False)\n",
    "\n",
    "    assess_training(model_settings_domestic_only, stage, df_train=df_train, df_test=df_test)"
   ]
  },
  {
   "cell_type": "code",
   "execution_count": null,
   "metadata": {},
   "outputs": [],
   "source": [
    "## Evaluate model\n",
    "\n",
    "for stage in [1, 2]:\n",
    "\n",
    "    _, df_test, df_train_unbal = gen_train_test_data(model_settings, stage, domestic_only=True)\n",
    "    df_forecast, _ = gen_forecast_data(model_settings, stage, domestic_only=True)\n",
    "\n",
    "    model, _, device = create_model(model_settings, stage, prev_epoch=model_settings['epochs'], from_s3=False)\n",
    "    \n",
    "    print(\"Training: \")\n",
    "    calc_results(model_settings, stage, model, device, df_train_unbal, \"train\")\n",
    "    \n",
    "    print(\"Testing: \")\n",
    "    calc_results(model_settings, stage, model, device, df_test ,       \"test\")\n",
    "    \n",
    "    print(\"Forecast: \")\n",
    "    calc_results(model_settings, stage, model, device, df_forecast,    \"forecast\")\n"
   ]
  }
 ],
 "metadata": {
  "kernelspec": {
   "display_name": "Python 3",
   "language": "python",
   "name": "python3"
  },
  "language_info": {
   "codemirror_mode": {
    "name": "ipython",
    "version": 3
   },
   "file_extension": ".py",
   "mimetype": "text/x-python",
   "name": "python",
   "nbconvert_exporter": "python",
   "pygments_lexer": "ipython3",
   "version": "3.6.10"
  }
 },
 "nbformat": 4,
 "nbformat_minor": 2
}
